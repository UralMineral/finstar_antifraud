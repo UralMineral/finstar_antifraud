{
 "cells": [
  {
   "cell_type": "code",
   "execution_count": 9,
   "id": "993626bc-47ab-40cb-a7d6-29ca569076ec",
   "metadata": {},
   "outputs": [
    {
     "name": "stderr",
     "output_type": "stream",
     "text": [
      "IOPub data rate exceeded.\n",
      "The Jupyter server will temporarily stop sending output\n",
      "to the client in order to avoid crashing it.\n",
      "To change this limit, set the config variable\n",
      "`--ServerApp.iopub_data_rate_limit`.\n",
      "\n",
      "Current values:\n",
      "ServerApp.iopub_data_rate_limit=1000000.0 (bytes/sec)\n",
      "ServerApp.rate_limit_window=3.0 (secs)\n",
      "\n"
     ]
    }
   ],
   "source": [
    "import pandas as pd\n",
    "import json\n",
    "\n",
    "# Step 1: Read the CSV file\n",
    "csv_file = 'output.csv'\n",
    "df = pd.read_csv(csv_file)\n",
    "\n",
    "# Step 2: Extract the relevant column with JSON-like strings\n",
    "json_column = 'social_data_resp'\n",
    "\n",
    "# Step 3: Define a function to preprocess and convert JSON-like strings to dictionaries\n",
    "def preprocess_and_convert(json_str):\n",
    "    # Check if the input is NaN or empty string\n",
    "    if pd.isna(json_str) or json_str.strip() == '':\n",
    "        return None  # Return None for NaN or empty strings\n",
    "    \n",
    "    # Convert float to string representation (this might happen if the data is not quoted properly)\n",
    "    json_str = str(json_str)\n",
    "    \n",
    "    # Replace single quotes with double quotes to make it valid JSON\n",
    "    json_str = json_str.replace(\"'\", '\"')\n",
    "    \n",
    "    try:\n",
    "        # Load JSON string to dictionary\n",
    "        data_dict = json.loads(json_str)\n",
    "        return data_dict\n",
    "    except json.JSONDecodeError as e:\n",
    "        # Optionally log the error (write to a log file instead of printing)\n",
    "        print(f\"JSON Decode Error: {e}\")\n",
    "        print(f\"Problematic JSON string: {json_str}\")\n",
    "        return None  # Return None for failed JSON parsing\n",
    "\n",
    "# Step 4: Apply the function to each row in the JSON column\n",
    "processed_data = df[json_column].apply(preprocess_and_convert)\n",
    "\n",
    "# Step 5: Check how many rows were successfully processed\n",
    "successful_rows = processed_data.dropna().shape[0]\n",
    "total_rows = df.shape[0]\n",
    "print(f\"Successfully processed {successful_rows} out of {total_rows} rows.\")\n",
    "\n",
    "# Step 6: Create a new DataFrame\n",
    "# Filter out rows where JSON decoding failed (returned None)\n",
    "new_df = pd.DataFrame([x for x in processed_data if x is not None])\n",
    "\n",
    "# Step 7: Save as CSV directly without printing\n",
    "new_csv_file = 'unpacked_data.csv'\n",
    "new_df.to_csv(new_csv_file, index=False)\n",
    "\n",
    "print(f\"Successfully created CSV file: {new_csv_file}\")"
   ]
  },
  {
   "cell_type": "code",
   "execution_count": null,
   "id": "7936bdaa-71e3-4aee-8e70-7c2f32cbfddf",
   "metadata": {},
   "outputs": [
    {
     "name": "stdout",
     "output_type": "stream",
     "text": [
      "\u001b[32m[I 15:28:48.482 NotebookApp]\u001b[m The port 8888 is already in use, trying another port.\n",
      "\u001b[32m[I 15:28:48.482 NotebookApp]\u001b[m Serving notebooks from local directory: /home/alikhan/Projects/Finished Projects/Finstar\n",
      "\u001b[32m[I 15:28:48.482 NotebookApp]\u001b[m Jupyter Notebook 6.4.12 is running at:\n",
      "\u001b[32m[I 15:28:48.482 NotebookApp]\u001b[m http://localhost:8889/?token=03cdee7ba65aa9d3d278b4e745c235e3c3652709c1e54d9a\n",
      "\u001b[32m[I 15:28:48.482 NotebookApp]\u001b[m  or http://127.0.0.1:8889/?token=03cdee7ba65aa9d3d278b4e745c235e3c3652709c1e54d9a\n",
      "\u001b[32m[I 15:28:48.483 NotebookApp]\u001b[m Use Control-C to stop this server and shut down all kernels (twice to skip confirmation).\n",
      "\u001b[35m[C 15:28:50.556 NotebookApp]\u001b[m \n",
      "    \n",
      "    To access the notebook, open this file in a browser:\n",
      "        file:///home/alikhan/.local/share/jupyter/runtime/nbserver-85240-open.html\n",
      "    Or copy and paste one of these URLs:\n",
      "        http://localhost:8889/?token=03cdee7ba65aa9d3d278b4e745c235e3c3652709c1e54d9a\n",
      "     or http://127.0.0.1:8889/?token=03cdee7ba65aa9d3d278b4e745c235e3c3652709c1e54d9a\n",
      "\u001b[32m[I 15:29:15.481 NotebookApp]\u001b[m Kernel started: 4de7f8f8-1cac-4fa5-9787-74aa88472614, name: python3\n",
      "\u001b[33m[W 15:29:40.977 NotebookApp]\u001b[m IOPub data rate exceeded.\n",
      "    The notebook server will temporarily stop sending output\n",
      "    to the client in order to avoid crashing it.\n",
      "    To change this limit, set the config variable\n",
      "    `--NotebookApp.iopub_data_rate_limit`.\n",
      "    \n",
      "    Current values:\n",
      "    NotebookApp.iopub_data_rate_limit=10000000.0 (bytes/sec)\n",
      "    NotebookApp.rate_limit_window=3.0 (secs)\n",
      "    \n",
      "\u001b[33m[W 15:29:41.076 NotebookApp]\u001b[m iopub messages resumed\n",
      "\u001b[32m[I 15:30:45.687 NotebookApp]\u001b[m Starting buffering for 4de7f8f8-1cac-4fa5-9787-74aa88472614:fea5256f13c14c45b69916bd320ee428\n"
     ]
    }
   ],
   "source": [
    "!jupyter notebook --NotebookApp.iopub_data_rate_limit=10000000"
   ]
  }
 ],
 "metadata": {
  "kernelspec": {
   "display_name": "Python 3 (ipykernel)",
   "language": "python",
   "name": "python3"
  },
  "language_info": {
   "codemirror_mode": {
    "name": "ipython",
    "version": 3
   },
   "file_extension": ".py",
   "mimetype": "text/x-python",
   "name": "python",
   "nbconvert_exporter": "python",
   "pygments_lexer": "ipython3",
   "version": "3.10.12"
  }
 },
 "nbformat": 4,
 "nbformat_minor": 5
}
