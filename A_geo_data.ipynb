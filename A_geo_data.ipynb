{
 "cells": [
  {
   "cell_type": "code",
   "execution_count": 22,
   "id": "f9ad2668-6e03-443e-8530-df9e33421832",
   "metadata": {},
   "outputs": [
    {
     "name": "stdout",
     "output_type": "stream",
     "text": [
      "CPU times: user 1.25 s, sys: 112 ms, total: 1.36 s\n",
      "Wall time: 1.37 s\n"
     ]
    }
   ],
   "source": [
    "%%time\n",
    "\n",
    "import time\n",
    "import numpy as np\n",
    "import pandas as pd\n",
    "import matplotlib.pyplot as plt\n",
    "import requests\n",
    "from geopy.distance import geodesic\n",
    "\n",
    "pd.reset_option('display.max_rows',None)\n",
    "\n",
    "df = pd.read_csv('output.csv')"
   ]
  },
  {
   "cell_type": "code",
   "execution_count": 2,
   "id": "07b92576-9989-4256-b250-20aba1523870",
   "metadata": {},
   "outputs": [
    {
     "name": "stdout",
     "output_type": "stream",
     "text": [
      "10298 Unnamed: 0\n",
      "10298 app_id\n",
      "9598 fsaccountholdername\n",
      "119 fsbankid\n",
      "9950 fsaccountnumber\n",
      "163 close_date\n",
      "9351 name\n",
      "9957 address\n",
      "5375 aadhaardob\n",
      "10289 pan\n",
      "7827 tsadhaarid\n",
      "9989 tsapplicationcustomerip\n",
      "2 fpd5\n",
      "10292 mobilephone\n",
      "2 is_agr\n",
      "10286 email\n",
      "2 isgeofake\n",
      "1291 geolatitude\n",
      "6562 geolongitude\n",
      "10298 dt\n",
      "9951 social_data_resp\n",
      "9424 bureau_personal_info\n",
      "9942 pan_premium_data\n"
     ]
    }
   ],
   "source": [
    "# See how many unique values do we have!\n",
    "for col in list(df.columns):\n",
    "    print(str(df[col].value_counts().count())+' ' + col)"
   ]
  },
  {
   "cell_type": "code",
   "execution_count": 3,
   "id": "af68c965-c914-4006-8451-6934a6f7b87d",
   "metadata": {
    "scrolled": true
   },
   "outputs": [
    {
     "data": {
      "text/plain": [
       "app_id                        0\n",
       "fsaccountholdername           0\n",
       "fsbankid                      0\n",
       "fsaccountnumber               0\n",
       "close_date                 5297\n",
       "name                          0\n",
       "address                       1\n",
       "aadhaardob                    0\n",
       "pan                           0\n",
       "tsadhaarid                  132\n",
       "tsapplicationcustomerip       1\n",
       "fpd5                          0\n",
       "mobilephone                   0\n",
       "is_agr                        0\n",
       "email                         5\n",
       "isgeofake                     0\n",
       "geolatitude                2180\n",
       "geolongitude               2180\n",
       "dt                            0\n",
       "social_data_resp            347\n",
       "bureau_personal_info        348\n",
       "pan_premium_data            347\n",
       "dtype: int64"
      ]
     },
     "execution_count": 3,
     "metadata": {},
     "output_type": "execute_result"
    }
   ],
   "source": [
    "df = df.drop(columns=['Unnamed: 0'])\n",
    "(df.isnull()*1).sum() # See how many NULL values do we have per each column!"
   ]
  },
  {
   "cell_type": "markdown",
   "id": "02043a99-36ce-4759-b770-ebf63539db6e",
   "metadata": {},
   "source": [
    "#### Геолокация IP: Сравните IP-адрес (TSApplicationCustomerIp) с географическим местоположением, указанным пользователем. Если они не совпадают (например, человек заявляет, что он находится в Индии, а IP-адрес принадлежит другой стране), это может быть подозрительным."
   ]
  },
  {
   "cell_type": "code",
   "execution_count": 4,
   "id": "2833788e-88b9-46e7-8516-dae2262ca1c4",
   "metadata": {},
   "outputs": [],
   "source": [
    "def get_ip_geolocation(ip_address, access_token):\n",
    "    url = f'https://ipinfo.io/{ip_address}/json?token={access_token}'\n",
    "    response = requests.get(url)\n",
    "    data = response.json()\n",
    "    if 'loc' in data and 'country' in data:\n",
    "        latitude, longitude = map(float, data['loc'].split(','))\n",
    "        country = data['country']\n",
    "        return latitude, longitude, country\n",
    "    return None, None, None\n",
    "\n",
    "def check_location(ip_address, access_token, declared_latitude, declared_longitude):\n",
    "    ip_lat, ip_lng, country = get_ip_geolocation(ip_address, access_token)\n",
    "    \n",
    "    if ip_lat is None or country is None:\n",
    "        return False, None, None, None, None\n",
    "\n",
    "    if country != 'IN':\n",
    "        return False, None, ip_lat, ip_lng, country\n",
    "\n",
    "    if pd.isnull(declared_latitude) or pd.isnull(declared_longitude):\n",
    "        return False, None, ip_lat, ip_lng, country\n",
    "\n",
    "    distance = geodesic((ip_lat, ip_lng), (declared_latitude, declared_longitude)).kilometers\n",
    "    return distance < 100, distance, ip_lat, ip_lng, country\n",
    "\n",
    "def batch_check_locations(dataframe, access_token):\n",
    "    results = []\n",
    "    for index, row in dataframe.iterrows():\n",
    "        ip_address = row['tsapplicationcustomerip']\n",
    "        declared_latitude = row['geolatitude']\n",
    "        declared_longitude = row['geolongitude']\n",
    "\n",
    "        is_match, dist, re_latitude, re_longitude, country = check_location(ip_address, access_token, declared_latitude, declared_longitude)\n",
    "        \n",
    "        result = {\n",
    "            'IP_Address': ip_address,\n",
    "            'Declared_Latitude': declared_latitude,\n",
    "            'Real_Latitude': re_latitude,\n",
    "            'Declared_Longitude': declared_longitude,\n",
    "            'Real_Longitude': re_longitude,\n",
    "            'Real_Country': country,\n",
    "            'Is_Match': is_match,\n",
    "            'Distance_km': dist if is_match else None\n",
    "        }\n",
    "        results.append(result)\n",
    "    \n",
    "    return pd.DataFrame(results)"
   ]
  },
  {
   "cell_type": "markdown",
   "id": "52083911-8063-42cf-8bf3-7da5da02e782",
   "metadata": {},
   "source": [
    "**Чекнуть трешхолд дистнас в check_location**"
   ]
  },
  {
   "cell_type": "code",
   "execution_count": null,
   "id": "ea1ec521-0399-4436-abc7-aee29a688b4f",
   "metadata": {
    "scrolled": true
   },
   "outputs": [],
   "source": [
    "%%time\n",
    "\n",
    "# Пример использования\n",
    "# Предположим, у вас есть датафрейм df с колонками 'TSApplicationCustomerIp', 'geolatitude', 'geolongitude'\n",
    "# и вы хотите проверить их соответствие заявленным координатам в Индии.\n",
    "\n",
    "# Ваш токен для доступа к ipinfo.io API\n",
    "access_token = 'd9372d4774e12d'\n",
    "\n",
    "# Пример датафрейма с данными\n",
    "data = {\n",
    "    'TSApplicationCustomerIp': ['103.27.9.44', '8.8.8.8'],\n",
    "    'geolatitude': [28.6139, 37.4219999],\n",
    "    'geolongitude': [77.2090, -122.0840575]\n",
    "}\n",
    "df_test = pd.DataFrame(data)\n",
    "\n",
    "geo_feat = ['tsapplicationcustomerip', 'geolatitude', 'geolongitude']\n",
    "\n",
    "# Массовая проверка\n",
    "ip_loc_df = batch_check_locations(df.loc[~df['geolatitude'].isnull()][geo_feat], access_token)\n",
    "\n",
    "# Вывод результатов\n",
    "ip_loc_df"
   ]
  },
  {
   "cell_type": "code",
   "execution_count": null,
   "id": "9ea95ccf-1538-4b42-b107-f784df390331",
   "metadata": {},
   "outputs": [],
   "source": [
    "geo_feat = ['tsapplicationcustomerip', 'geolatitude', 'geolongitude']"
   ]
  },
  {
   "cell_type": "code",
   "execution_count": null,
   "id": "dd08d979-9465-40af-8b41-90eb69b483f5",
   "metadata": {},
   "outputs": [],
   "source": [
    "#ip_loc_df.to_csv('geo_data.csv', index=False)"
   ]
  },
  {
   "cell_type": "code",
   "execution_count": 5,
   "id": "d6366f14-ee8d-4400-b364-ebe3f3410142",
   "metadata": {},
   "outputs": [],
   "source": [
    "ip_loc_df = pd.read_csv('geo_data.csv')"
   ]
  },
  {
   "cell_type": "code",
   "execution_count": null,
   "id": "9673be68-8d96-49f4-b810-453f8b100da6",
   "metadata": {},
   "outputs": [],
   "source": [
    "ip_loc_df.Is_Match.value_counts()"
   ]
  },
  {
   "cell_type": "code",
   "execution_count": null,
   "id": "b63056d6-c9ef-4347-9f4a-3798f9c8dae9",
   "metadata": {},
   "outputs": [],
   "source": [
    "ip_loc_df"
   ]
  },
  {
   "cell_type": "code",
   "execution_count": null,
   "id": "c04a5c3f-5adb-4c0e-8ed8-f7ae6e379d67",
   "metadata": {},
   "outputs": [],
   "source": [
    "df.loc[~df['geolatitude'].isnull()][['app_id', 'fpd5']].reset_index(drop=True)"
   ]
  },
  {
   "cell_type": "code",
   "execution_count": null,
   "id": "03b3715e-1a2d-4179-8bb2-0ec88facb58e",
   "metadata": {},
   "outputs": [],
   "source": [
    "ip_loc_df.IP_Address.value_counts()"
   ]
  },
  {
   "cell_type": "code",
   "execution_count": null,
   "id": "381be533-1374-4ba4-8dce-46a044b3d181",
   "metadata": {},
   "outputs": [],
   "source": [
    "ip_loc_df.Real_Country.value_counts()"
   ]
  },
  {
   "cell_type": "code",
   "execution_count": null,
   "id": "274ed1a4-8883-4d33-be0a-aa27e4084565",
   "metadata": {},
   "outputs": [],
   "source": [
    "ip_loc_df = ip_loc_df.join(df.loc[~df['geolatitude'].isnull()][['app_id', 'fpd5']].reset_index(drop=True))"
   ]
  },
  {
   "cell_type": "code",
   "execution_count": null,
   "id": "74c8d285-a39c-48f8-9591-173778a4a3da",
   "metadata": {},
   "outputs": [],
   "source": [
    "print(ip_loc_df.fpd5.value_counts())\n",
    "print(ip_loc_df.Is_Match.value_counts())\n",
    "print('Geo-False',ip_loc_df.loc[ip_loc_df['Is_Match']==False].fpd5.value_counts())\n",
    "print('Geo-True',ip_loc_df.loc[ip_loc_df['Is_Match']==True].fpd5.value_counts())"
   ]
  },
  {
   "cell_type": "markdown",
   "id": "040e32aa-2a7d-4030-b1ae-4b4044f40f8c",
   "metadata": {},
   "source": [
    "#### Множественные заявки с одного IP: Проверьте, не поступают ли заявки от разных пользователей с одного IP-адреса. Это может указывать на мошенническую активность."
   ]
  },
  {
   "cell_type": "code",
   "execution_count": 6,
   "id": "3a766c0b-479f-4c3c-b46e-17cc8b9a41f0",
   "metadata": {
    "scrolled": true
   },
   "outputs": [
    {
     "data": {
      "text/html": [
       "<div>\n",
       "<style scoped>\n",
       "    .dataframe tbody tr th:only-of-type {\n",
       "        vertical-align: middle;\n",
       "    }\n",
       "\n",
       "    .dataframe tbody tr th {\n",
       "        vertical-align: top;\n",
       "    }\n",
       "\n",
       "    .dataframe thead th {\n",
       "        text-align: right;\n",
       "    }\n",
       "</style>\n",
       "<table border=\"1\" class=\"dataframe\">\n",
       "  <thead>\n",
       "    <tr style=\"text-align: right;\">\n",
       "      <th></th>\n",
       "      <th>tsapplicationcustomerip</th>\n",
       "      <th>userscount</th>\n",
       "    </tr>\n",
       "  </thead>\n",
       "  <tbody>\n",
       "    <tr>\n",
       "      <th>8048</th>\n",
       "      <td>2409:4063:4c1a:d805:9bca:a5eb:af03:b25a</td>\n",
       "      <td>23</td>\n",
       "    </tr>\n",
       "    <tr>\n",
       "      <th>8071</th>\n",
       "      <td>2409:4063:6d12:1117:7b47:e2ef:4ff3:ae55</td>\n",
       "      <td>17</td>\n",
       "    </tr>\n",
       "    <tr>\n",
       "      <th>8037</th>\n",
       "      <td>2409:4063:4304:fab:31ce:6a66:cae1:e0b9</td>\n",
       "      <td>15</td>\n",
       "    </tr>\n",
       "    <tr>\n",
       "      <th>8073</th>\n",
       "      <td>2409:4063:6d12:1117:8510:6e6:edd9:d91c</td>\n",
       "      <td>15</td>\n",
       "    </tr>\n",
       "    <tr>\n",
       "      <th>8047</th>\n",
       "      <td>2409:4063:4c1a:d805:21bc:b1db:6fd2:bc57</td>\n",
       "      <td>14</td>\n",
       "    </tr>\n",
       "    <tr>\n",
       "      <th>...</th>\n",
       "      <td>...</td>\n",
       "      <td>...</td>\n",
       "    </tr>\n",
       "    <tr>\n",
       "      <th>4636</th>\n",
       "      <td>152.58.32.135</td>\n",
       "      <td>2</td>\n",
       "    </tr>\n",
       "    <tr>\n",
       "      <th>4631</th>\n",
       "      <td>152.58.31.68</td>\n",
       "      <td>2</td>\n",
       "    </tr>\n",
       "    <tr>\n",
       "      <th>4622</th>\n",
       "      <td>152.58.31.166</td>\n",
       "      <td>2</td>\n",
       "    </tr>\n",
       "    <tr>\n",
       "      <th>4565</th>\n",
       "      <td>152.58.236.230</td>\n",
       "      <td>2</td>\n",
       "    </tr>\n",
       "    <tr>\n",
       "      <th>4539</th>\n",
       "      <td>152.58.234.236</td>\n",
       "      <td>2</td>\n",
       "    </tr>\n",
       "  </tbody>\n",
       "</table>\n",
       "<p>100 rows × 2 columns</p>\n",
       "</div>"
      ],
      "text/plain": [
       "                      tsapplicationcustomerip  userscount\n",
       "8048  2409:4063:4c1a:d805:9bca:a5eb:af03:b25a          23\n",
       "8071  2409:4063:6d12:1117:7b47:e2ef:4ff3:ae55          17\n",
       "8037   2409:4063:4304:fab:31ce:6a66:cae1:e0b9          15\n",
       "8073   2409:4063:6d12:1117:8510:6e6:edd9:d91c          15\n",
       "8047  2409:4063:4c1a:d805:21bc:b1db:6fd2:bc57          14\n",
       "...                                       ...         ...\n",
       "4636                            152.58.32.135           2\n",
       "4631                             152.58.31.68           2\n",
       "4622                            152.58.31.166           2\n",
       "4565                           152.58.236.230           2\n",
       "4539                           152.58.234.236           2\n",
       "\n",
       "[100 rows x 2 columns]"
      ]
     },
     "execution_count": 6,
     "metadata": {},
     "output_type": "execute_result"
    }
   ],
   "source": [
    "# Группировка по IP-адресам и подсчет уникальных имен держателей счета\n",
    "ip_group = df.groupby('tsapplicationcustomerip')['fsaccountholdername'].count().reset_index()\n",
    "\n",
    "# Переименование столбцов для удобства\n",
    "ip_group.columns = ['tsapplicationcustomerip', 'userscount']\n",
    "\n",
    "# Фильтрация IP-адресов с более чем одним уникальным именем держателя счета\n",
    "suspicious_ips = ip_group[ip_group['userscount'] > 1]\n",
    "\n",
    "# Вывод результатов\n",
    "suspicious_ips.sort_values(by='userscount', ascending=False).head(100)"
   ]
  },
  {
   "cell_type": "code",
   "execution_count": 7,
   "id": "334480a3-05c6-4f56-be64-a1f8eecb78b5",
   "metadata": {
    "scrolled": true
   },
   "outputs": [
    {
     "name": "stdout",
     "output_type": "stream",
     "text": [
      "0.0    6729\n",
      "1.0    3238\n",
      "0.5      22\n",
      "Name: count, dtype: int64\n"
     ]
    },
    {
     "data": {
      "text/html": [
       "<div>\n",
       "<style scoped>\n",
       "    .dataframe tbody tr th:only-of-type {\n",
       "        vertical-align: middle;\n",
       "    }\n",
       "\n",
       "    .dataframe tbody tr th {\n",
       "        vertical-align: top;\n",
       "    }\n",
       "\n",
       "    .dataframe thead th {\n",
       "        text-align: right;\n",
       "    }\n",
       "</style>\n",
       "<table border=\"1\" class=\"dataframe\">\n",
       "  <thead>\n",
       "    <tr style=\"text-align: right;\">\n",
       "      <th></th>\n",
       "      <th>tsapplicationcustomerip</th>\n",
       "      <th>fsaccountholdername</th>\n",
       "      <th>fpd5</th>\n",
       "      <th>ratio</th>\n",
       "    </tr>\n",
       "  </thead>\n",
       "  <tbody>\n",
       "    <tr>\n",
       "      <th>0</th>\n",
       "      <td>2409:4063:4c1a:d805:9bca:a5eb:af03:b25a</td>\n",
       "      <td>23</td>\n",
       "      <td>23</td>\n",
       "      <td>1.0</td>\n",
       "    </tr>\n",
       "    <tr>\n",
       "      <th>1</th>\n",
       "      <td>2409:4063:6d12:1117:7b47:e2ef:4ff3:ae55</td>\n",
       "      <td>17</td>\n",
       "      <td>17</td>\n",
       "      <td>1.0</td>\n",
       "    </tr>\n",
       "    <tr>\n",
       "      <th>2</th>\n",
       "      <td>2409:4063:4304:fab:31ce:6a66:cae1:e0b9</td>\n",
       "      <td>15</td>\n",
       "      <td>15</td>\n",
       "      <td>1.0</td>\n",
       "    </tr>\n",
       "    <tr>\n",
       "      <th>3</th>\n",
       "      <td>2409:4063:6d12:1117:8510:6e6:edd9:d91c</td>\n",
       "      <td>15</td>\n",
       "      <td>15</td>\n",
       "      <td>1.0</td>\n",
       "    </tr>\n",
       "    <tr>\n",
       "      <th>4</th>\n",
       "      <td>2409:4063:4c1a:d805:21bc:b1db:6fd2:bc57</td>\n",
       "      <td>14</td>\n",
       "      <td>14</td>\n",
       "      <td>1.0</td>\n",
       "    </tr>\n",
       "    <tr>\n",
       "      <th>...</th>\n",
       "      <td>...</td>\n",
       "      <td>...</td>\n",
       "      <td>...</td>\n",
       "      <td>...</td>\n",
       "    </tr>\n",
       "    <tr>\n",
       "      <th>9984</th>\n",
       "      <td>152.57.21.52</td>\n",
       "      <td>1</td>\n",
       "      <td>0</td>\n",
       "      <td>0.0</td>\n",
       "    </tr>\n",
       "    <tr>\n",
       "      <th>9985</th>\n",
       "      <td>152.57.210.14</td>\n",
       "      <td>1</td>\n",
       "      <td>0</td>\n",
       "      <td>0.0</td>\n",
       "    </tr>\n",
       "    <tr>\n",
       "      <th>9986</th>\n",
       "      <td>152.57.210.88</td>\n",
       "      <td>1</td>\n",
       "      <td>0</td>\n",
       "      <td>0.0</td>\n",
       "    </tr>\n",
       "    <tr>\n",
       "      <th>9987</th>\n",
       "      <td>152.57.211.243</td>\n",
       "      <td>1</td>\n",
       "      <td>0</td>\n",
       "      <td>0.0</td>\n",
       "    </tr>\n",
       "    <tr>\n",
       "      <th>9988</th>\n",
       "      <td>94.129.33.216</td>\n",
       "      <td>1</td>\n",
       "      <td>0</td>\n",
       "      <td>0.0</td>\n",
       "    </tr>\n",
       "  </tbody>\n",
       "</table>\n",
       "<p>9989 rows × 4 columns</p>\n",
       "</div>"
      ],
      "text/plain": [
       "                      tsapplicationcustomerip  fsaccountholdername  fpd5  \\\n",
       "0     2409:4063:4c1a:d805:9bca:a5eb:af03:b25a                   23    23   \n",
       "1     2409:4063:6d12:1117:7b47:e2ef:4ff3:ae55                   17    17   \n",
       "2      2409:4063:4304:fab:31ce:6a66:cae1:e0b9                   15    15   \n",
       "3      2409:4063:6d12:1117:8510:6e6:edd9:d91c                   15    15   \n",
       "4     2409:4063:4c1a:d805:21bc:b1db:6fd2:bc57                   14    14   \n",
       "...                                       ...                  ...   ...   \n",
       "9984                             152.57.21.52                    1     0   \n",
       "9985                            152.57.210.14                    1     0   \n",
       "9986                            152.57.210.88                    1     0   \n",
       "9987                           152.57.211.243                    1     0   \n",
       "9988                            94.129.33.216                    1     0   \n",
       "\n",
       "      ratio  \n",
       "0       1.0  \n",
       "1       1.0  \n",
       "2       1.0  \n",
       "3       1.0  \n",
       "4       1.0  \n",
       "...     ...  \n",
       "9984    0.0  \n",
       "9985    0.0  \n",
       "9986    0.0  \n",
       "9987    0.0  \n",
       "9988    0.0  \n",
       "\n",
       "[9989 rows x 4 columns]"
      ]
     },
     "execution_count": 7,
     "metadata": {},
     "output_type": "execute_result"
    }
   ],
   "source": [
    "applications   = df.groupby('tsapplicationcustomerip')['fsaccountholdername'].count().reset_index().sort_values(by='fsaccountholdername', ascending=False)\n",
    "applications_1 = df.groupby('tsapplicationcustomerip')['fpd5'].sum().reset_index().sort_values(by='fpd5', ascending=False)\n",
    "applications = pd.merge(applications, applications_1, how='inner', on='tsapplicationcustomerip')\n",
    "applications['ratio'] = pd.Series(applications['fpd5']/applications['fsaccountholdername']).sort_values(ascending=False)\n",
    "print(pd.Series(applications['fpd5']/applications['fsaccountholdername']).sort_values(ascending=False).value_counts())\n",
    "applications"
   ]
  },
  {
   "cell_type": "code",
   "execution_count": 30,
   "id": "2b9a2a15-52eb-4909-942f-c076b4a22647",
   "metadata": {},
   "outputs": [
    {
     "data": {
      "text/plain": [
       "ratio\n",
       "0.0    22\n",
       "0.5    22\n",
       "1.0    18\n",
       "Name: count, dtype: int64"
      ]
     },
     "execution_count": 30,
     "metadata": {},
     "output_type": "execute_result"
    }
   ],
   "source": [
    "applications.loc[applications['fsaccountholdername']==2]['ratio'].value_counts()"
   ]
  },
  {
   "cell_type": "code",
   "execution_count": 31,
   "id": "08a5e86d-00c9-4b21-91e0-2defe0e036ab",
   "metadata": {},
   "outputs": [
    {
     "name": "stdout",
     "output_type": "stream",
     "text": [
      "fsaccountholdername\n",
      "1     9883\n",
      "2       62\n",
      "3       15\n",
      "4        7\n",
      "5        3\n",
      "6        3\n",
      "7        4\n",
      "8        2\n",
      "10       3\n",
      "12       1\n",
      "14       2\n",
      "15       2\n",
      "17       1\n",
      "23       1\n",
      "Name: count, dtype: int64\n",
      "fpd5\n",
      "0     6729\n",
      "1     3198\n",
      "2       18\n",
      "3       15\n",
      "4        7\n",
      "5        3\n",
      "6        3\n",
      "7        4\n",
      "8        2\n",
      "10       3\n",
      "12       1\n",
      "14       2\n",
      "15       2\n",
      "17       1\n",
      "23       1\n",
      "Name: count, dtype: int64\n",
      "Variety of expires for 2 applications: ratio\n",
      "0.0    22\n",
      "0.5    22\n",
      "1.0    18\n",
      "Name: count, dtype: int64\n"
     ]
    }
   ],
   "source": [
    "print(applications.fsaccountholdername.value_counts().sort_values(ascending=False).sort_index())\n",
    "print(applications.fpd5.value_counts().sort_values(ascending=False).sort_index())\n",
    "print('Variety of expires for 2 applications:',applications.loc[applications['fsaccountholdername']==2]['ratio'].value_counts())"
   ]
  },
  {
   "cell_type": "code",
   "execution_count": 32,
   "id": "8fce5c9c-3b24-4f21-a504-6e6abddb6849",
   "metadata": {
    "scrolled": true
   },
   "outputs": [
    {
     "data": {
      "text/plain": [
       "fpd5\n",
       "1    348\n",
       "0     66\n",
       "Name: count, dtype: int64"
      ]
     },
     "execution_count": 32,
     "metadata": {},
     "output_type": "execute_result"
    }
   ],
   "source": [
    "pd.merge(df, suspicious_ips['tsapplicationcustomerip'], how='right', on = 'tsapplicationcustomerip').fpd5.value_counts()"
   ]
  }
 ],
 "metadata": {
  "kernelspec": {
   "display_name": "Python 3 (ipykernel)",
   "language": "python",
   "name": "python3"
  },
  "language_info": {
   "codemirror_mode": {
    "name": "ipython",
    "version": 3
   },
   "file_extension": ".py",
   "mimetype": "text/x-python",
   "name": "python",
   "nbconvert_exporter": "python",
   "pygments_lexer": "ipython3",
   "version": "3.12.3"
  }
 },
 "nbformat": 4,
 "nbformat_minor": 5
}
